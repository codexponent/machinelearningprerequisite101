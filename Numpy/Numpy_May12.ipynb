{
  "nbformat": 4,
  "nbformat_minor": 0,
  "metadata": {
    "colab": {
      "name": "Numpy_May12.ipynb",
      "version": "0.3.2",
      "views": {},
      "default_view": {},
      "provenance": [],
      "collapsed_sections": [
        "qLvG0QrryFXo",
        "gIWh6naHyFZO",
        "6aSpYepryFbE"
      ]
    },
    "kernelspec": {
      "display_name": "Python 3",
      "language": "python",
      "name": "python3"
    },
    "accelerator": "GPU"
  },
  "cells": [
    {
      "metadata": {
        "id": "pzIyTlwCyFVI",
        "colab_type": "code",
        "colab": {
          "autoexec": {
            "startup": false,
            "wait_interval": 0
          }
        }
      },
      "cell_type": "code",
      "source": [
        "import numpy as np"
      ],
      "execution_count": 0,
      "outputs": []
    },
    {
      "metadata": {
        "id": "6Xs_HDIwyFVY",
        "colab_type": "text"
      },
      "cell_type": "markdown",
      "source": [
        "# creating array (1 dimentional and 2 dimensional array)"
      ]
    },
    {
      "metadata": {
        "id": "mK1Rtb8yyFVa",
        "colab_type": "code",
        "colab": {
          "autoexec": {
            "startup": false,
            "wait_interval": 0
          }
        }
      },
      "cell_type": "code",
      "source": [
        "my_list = [1,2,3]"
      ],
      "execution_count": 0,
      "outputs": []
    },
    {
      "metadata": {
        "id": "1MLuFIhJyFVi",
        "colab_type": "code",
        "colab": {
          "autoexec": {
            "startup": false,
            "wait_interval": 0
          },
          "base_uri": "https://localhost:8080/",
          "height": 34
        },
        "outputId": "c6bc26c4-d41a-4c52-cc36-e24979b9677b",
        "executionInfo": {
          "status": "ok",
          "timestamp": 1525264608370,
          "user_tz": -345,
          "elapsed": 1088,
          "user": {
            "displayName": "Nishan Pantha",
            "photoUrl": "//lh6.googleusercontent.com/-vaIH4ned-4g/AAAAAAAAAAI/AAAAAAAAGwQ/NhAoqWvL1t8/s50-c-k-no/photo.jpg",
            "userId": "110031988345300980177"
          }
        }
      },
      "cell_type": "code",
      "source": [
        "my_list"
      ],
      "execution_count": 5,
      "outputs": [
        {
          "output_type": "execute_result",
          "data": {
            "text/plain": [
              "[1, 2, 3]"
            ]
          },
          "metadata": {
            "tags": []
          },
          "execution_count": 5
        }
      ]
    },
    {
      "metadata": {
        "id": "wourQmBDyFVu",
        "colab_type": "code",
        "colab": {
          "autoexec": {
            "startup": false,
            "wait_interval": 0
          }
        }
      },
      "cell_type": "code",
      "source": [
        "arr = np.array(my_list) #one dimensional array"
      ],
      "execution_count": 0,
      "outputs": []
    },
    {
      "metadata": {
        "id": "ssNuxRhgyFV0",
        "colab_type": "code",
        "colab": {
          "autoexec": {
            "startup": false,
            "wait_interval": 0
          },
          "base_uri": "https://localhost:8080/",
          "height": 34
        },
        "outputId": "0b8d3199-e106-4683-8aea-858b917dc27e",
        "executionInfo": {
          "status": "ok",
          "timestamp": 1525264612546,
          "user_tz": -345,
          "elapsed": 996,
          "user": {
            "displayName": "Nishan Pantha",
            "photoUrl": "//lh6.googleusercontent.com/-vaIH4ned-4g/AAAAAAAAAAI/AAAAAAAAGwQ/NhAoqWvL1t8/s50-c-k-no/photo.jpg",
            "userId": "110031988345300980177"
          }
        }
      },
      "cell_type": "code",
      "source": [
        "arr"
      ],
      "execution_count": 7,
      "outputs": [
        {
          "output_type": "execute_result",
          "data": {
            "text/plain": [
              "array([1, 2, 3])"
            ]
          },
          "metadata": {
            "tags": []
          },
          "execution_count": 7
        }
      ]
    },
    {
      "metadata": {
        "id": "jmBwCltSyFV8",
        "colab_type": "code",
        "colab": {
          "autoexec": {
            "startup": false,
            "wait_interval": 0
          }
        },
        "outputId": "c024b339-be4c-4b28-ce21-cadcfc90148b"
      },
      "cell_type": "code",
      "source": [
        "my_mat = [[1,2,3], [4,5,6], [7,8,9]]\n",
        "my_arr = np.array(my_mat) #two dimensional array\n",
        "my_arr"
      ],
      "execution_count": 0,
      "outputs": [
        {
          "output_type": "execute_result",
          "data": {
            "text/plain": [
              "array([[1, 2, 3],\n",
              "       [4, 5, 6],\n",
              "       [7, 8, 9]])"
            ]
          },
          "metadata": {
            "tags": []
          },
          "execution_count": 7
        }
      ]
    },
    {
      "metadata": {
        "id": "fGArb9jByFWG",
        "colab_type": "code",
        "colab": {
          "autoexec": {
            "startup": false,
            "wait_interval": 0
          }
        },
        "outputId": "e5d1b572-b69a-4ee6-d7b3-a81232713186"
      },
      "cell_type": "code",
      "source": [
        "#using built in functions to create numpy array\n",
        "np.arange(0,10, 2)#generates array from low end to highend"
      ],
      "execution_count": 0,
      "outputs": [
        {
          "output_type": "execute_result",
          "data": {
            "text/plain": [
              "array([0, 2, 4, 6, 8])"
            ]
          },
          "metadata": {
            "tags": []
          },
          "execution_count": 8
        }
      ]
    },
    {
      "metadata": {
        "id": "h7vV9zITyFWQ",
        "colab_type": "text"
      },
      "cell_type": "markdown",
      "source": [
        "# Random number generation"
      ]
    },
    {
      "metadata": {
        "id": "UQ1AfSDtyFWY",
        "colab_type": "code",
        "colab": {
          "autoexec": {
            "startup": false,
            "wait_interval": 0
          }
        },
        "outputId": "e8862d8f-d1ff-4fcd-a9af-8c22d1547a56"
      },
      "cell_type": "code",
      "source": [
        "\n",
        "# rand generates random number betwwen 0 and 1. here random number between 0 and 1 with \n",
        "# 5 rows,4 collumns is generated.\n",
        "np.random.rand(5,4) "
      ],
      "execution_count": 0,
      "outputs": [
        {
          "output_type": "execute_result",
          "data": {
            "text/plain": [
              "array([[ 0.6485795 ,  0.79535874,  0.56073951,  0.73682383],\n",
              "       [ 0.33779618,  0.08024333,  0.13778647,  0.42883558],\n",
              "       [ 0.92620162,  0.33063106,  0.53421953,  0.37859707],\n",
              "       [ 0.05084002,  0.4550901 ,  0.12290787,  0.67366539],\n",
              "       [ 0.09129496,  0.92703337,  0.87121784,  0.04702162]])"
            ]
          },
          "metadata": {
            "tags": []
          },
          "execution_count": 9
        }
      ]
    },
    {
      "metadata": {
        "id": "zxENQz6AyFWu",
        "colab_type": "code",
        "colab": {
          "autoexec": {
            "startup": false,
            "wait_interval": 0
          }
        },
        "outputId": "744e1aa5-96c3-4d9a-f9b7-1b47f3202352"
      },
      "cell_type": "code",
      "source": [
        "#randn generates any random number of give array size. here random number of 2*2 matrix is generated.\n",
        "np.random.randn(2,2) "
      ],
      "execution_count": 0,
      "outputs": [
        {
          "output_type": "execute_result",
          "data": {
            "text/plain": [
              "array([[-1.10512081, -0.1490814 ],\n",
              "       [ 1.31783267,  2.35742408]])"
            ]
          },
          "metadata": {
            "tags": []
          },
          "execution_count": 13
        }
      ]
    },
    {
      "metadata": {
        "id": "eIZYWcUMyFW-",
        "colab_type": "code",
        "colab": {
          "autoexec": {
            "startup": false,
            "wait_interval": 0
          }
        },
        "outputId": "9f46ebb6-9f2e-44ce-d8fb-caab1f726d0e"
      },
      "cell_type": "code",
      "source": [
        "#randint generateas random number from 1 to 100\n",
        "np.random.randint(1,100)"
      ],
      "execution_count": 0,
      "outputs": [
        {
          "output_type": "execute_result",
          "data": {
            "text/plain": [
              "5"
            ]
          },
          "metadata": {
            "tags": []
          },
          "execution_count": 15
        }
      ]
    },
    {
      "metadata": {
        "id": "oYkXzLN3yFXK",
        "colab_type": "code",
        "colab": {
          "autoexec": {
            "startup": false,
            "wait_interval": 0
          }
        },
        "outputId": "161cb06d-7ee8-4d1d-fb46-732580ca0eb2"
      },
      "cell_type": "code",
      "source": [
        "#generates  5 random numbers from 1 to 100\n",
        "np.random.randint(1,100,5)"
      ],
      "execution_count": 0,
      "outputs": [
        {
          "output_type": "execute_result",
          "data": {
            "text/plain": [
              "array([20, 82, 73, 45, 43])"
            ]
          },
          "metadata": {
            "tags": []
          },
          "execution_count": 16
        }
      ]
    },
    {
      "metadata": {
        "id": "CYEud_8qyFXW",
        "colab_type": "text"
      },
      "cell_type": "markdown",
      "source": [
        "# seed() gives same random number "
      ]
    },
    {
      "metadata": {
        "id": "vPX7i1FTyFXY",
        "colab_type": "text"
      },
      "cell_type": "markdown",
      "source": [
        "eg. seed(x) always gives output y. seed(a) always gives output b. "
      ]
    },
    {
      "metadata": {
        "id": "5iWO80V3yFXa",
        "colab_type": "code",
        "colab": {
          "autoexec": {
            "startup": false,
            "wait_interval": 0
          }
        },
        "outputId": "68f85393-166c-479a-bc4b-1765ad2d9228"
      },
      "cell_type": "code",
      "source": [
        "np.random.seed(10)\n",
        "np.random.random()\n"
      ],
      "execution_count": 0,
      "outputs": [
        {
          "output_type": "execute_result",
          "data": {
            "text/plain": [
              "0.771320643266746"
            ]
          },
          "metadata": {
            "tags": []
          },
          "execution_count": 25
        }
      ]
    },
    {
      "metadata": {
        "id": "n1a5zWY3yFXg",
        "colab_type": "code",
        "colab": {
          "autoexec": {
            "startup": false,
            "wait_interval": 0
          }
        },
        "outputId": "22822efb-c74a-4b29-f55d-30235f4cb4aa"
      },
      "cell_type": "code",
      "source": [
        "np.random.seed(10)\n",
        "np.random.random()"
      ],
      "execution_count": 0,
      "outputs": [
        {
          "output_type": "execute_result",
          "data": {
            "text/plain": [
              "0.771320643266746"
            ]
          },
          "metadata": {
            "tags": []
          },
          "execution_count": 26
        }
      ]
    },
    {
      "metadata": {
        "id": "qLvG0QrryFXo",
        "colab_type": "text"
      },
      "cell_type": "markdown",
      "source": [
        "# Shape and reshape"
      ]
    },
    {
      "metadata": {
        "id": "hvsciI9lyFXq",
        "colab_type": "code",
        "colab": {
          "autoexec": {
            "startup": false,
            "wait_interval": 0
          }
        }
      },
      "cell_type": "code",
      "source": [
        "arr = np.arange(25)"
      ],
      "execution_count": 0,
      "outputs": []
    },
    {
      "metadata": {
        "id": "-wAkjVcJyFX2",
        "colab_type": "code",
        "colab": {
          "autoexec": {
            "startup": false,
            "wait_interval": 0
          }
        },
        "outputId": "7be643eb-e5ae-4145-e237-9888c0928537"
      },
      "cell_type": "code",
      "source": [
        "arr"
      ],
      "execution_count": 0,
      "outputs": [
        {
          "output_type": "execute_result",
          "data": {
            "text/plain": [
              "array([ 0,  1,  2,  3,  4,  5,  6,  7,  8,  9, 10, 11, 12, 13, 14, 15, 16,\n",
              "       17, 18, 19, 20, 21, 22, 23, 24])"
            ]
          },
          "metadata": {
            "tags": []
          },
          "execution_count": 28
        }
      ]
    },
    {
      "metadata": {
        "id": "5t8HJ7rByFYM",
        "colab_type": "code",
        "colab": {
          "autoexec": {
            "startup": false,
            "wait_interval": 0
          }
        },
        "outputId": "04209ca7-3b17-40af-95f5-3b2c3e974087"
      },
      "cell_type": "code",
      "source": [
        "arr.shape"
      ],
      "execution_count": 0,
      "outputs": [
        {
          "output_type": "execute_result",
          "data": {
            "text/plain": [
              "(25,)"
            ]
          },
          "metadata": {
            "tags": []
          },
          "execution_count": 33
        }
      ]
    },
    {
      "metadata": {
        "id": "UQ7O2Em-yFYY",
        "colab_type": "code",
        "colab": {
          "autoexec": {
            "startup": false,
            "wait_interval": 0
          }
        },
        "outputId": "ad3e331d-eee2-46d7-edde-846da1c6e613"
      },
      "cell_type": "code",
      "source": [
        "#reshaping the array\n",
        "arr.reshape(5,5)\n"
      ],
      "execution_count": 0,
      "outputs": [
        {
          "output_type": "execute_result",
          "data": {
            "text/plain": [
              "array([[ 0,  1,  2,  3,  4],\n",
              "       [ 5,  6,  7,  8,  9],\n",
              "       [10, 11, 12, 13, 14],\n",
              "       [15, 16, 17, 18, 19],\n",
              "       [20, 21, 22, 23, 24]])"
            ]
          },
          "metadata": {
            "tags": []
          },
          "execution_count": 31
        }
      ]
    },
    {
      "metadata": {
        "id": "Qdad5lRiyFYg",
        "colab_type": "code",
        "colab": {
          "autoexec": {
            "startup": false,
            "wait_interval": 0
          }
        }
      },
      "cell_type": "code",
      "source": [
        "a=np.array(([2,5],[5,6],[6,7]))"
      ],
      "execution_count": 0,
      "outputs": []
    },
    {
      "metadata": {
        "id": "PWMefoisyFYw",
        "colab_type": "code",
        "colab": {
          "autoexec": {
            "startup": false,
            "wait_interval": 0
          }
        },
        "outputId": "336f3aca-357d-4689-a0a7-05d2324d37ba"
      },
      "cell_type": "code",
      "source": [
        "a"
      ],
      "execution_count": 0,
      "outputs": [
        {
          "output_type": "execute_result",
          "data": {
            "text/plain": [
              "array([[2, 5],\n",
              "       [5, 6],\n",
              "       [6, 7]])"
            ]
          },
          "metadata": {
            "tags": []
          },
          "execution_count": 36
        }
      ]
    },
    {
      "metadata": {
        "id": "mOHdm_TvyFY2",
        "colab_type": "code",
        "colab": {
          "autoexec": {
            "startup": false,
            "wait_interval": 0
          }
        },
        "outputId": "ddf1c430-88a0-4649-fb6b-4b6156247dad"
      },
      "cell_type": "code",
      "source": [
        "#finding shape of array \n",
        "a.shape"
      ],
      "execution_count": 0,
      "outputs": [
        {
          "output_type": "execute_result",
          "data": {
            "text/plain": [
              "(3, 2)"
            ]
          },
          "metadata": {
            "tags": []
          },
          "execution_count": 37
        }
      ]
    },
    {
      "metadata": {
        "id": "PaOTRKXoyFY6",
        "colab_type": "code",
        "colab": {
          "autoexec": {
            "startup": false,
            "wait_interval": 0
          }
        },
        "outputId": "fc6ccab9-a59b-4fb7-a731-d1a6dffcca2e"
      },
      "cell_type": "code",
      "source": [
        "a.reshape(2,3)"
      ],
      "execution_count": 0,
      "outputs": [
        {
          "output_type": "execute_result",
          "data": {
            "text/plain": [
              "array([[2, 5, 5],\n",
              "       [6, 6, 7]])"
            ]
          },
          "metadata": {
            "tags": []
          },
          "execution_count": 38
        }
      ]
    },
    {
      "metadata": {
        "id": "xGCyjZ6gyFZA",
        "colab_type": "code",
        "colab": {
          "autoexec": {
            "startup": false,
            "wait_interval": 0
          }
        },
        "outputId": "bfab3ffe-cc53-459e-f0f2-bb359d1cdccc"
      },
      "cell_type": "code",
      "source": [
        "\n",
        "arr.shape"
      ],
      "execution_count": 0,
      "outputs": [
        {
          "output_type": "execute_result",
          "data": {
            "text/plain": [
              "(25,)"
            ]
          },
          "metadata": {
            "tags": []
          },
          "execution_count": 35
        }
      ]
    },
    {
      "metadata": {
        "id": "XLUFeLhHyFZK",
        "colab_type": "code",
        "colab": {
          "autoexec": {
            "startup": false,
            "wait_interval": 0
          }
        },
        "outputId": "44f4227a-c230-4276-b75f-56d19aa9a67c"
      },
      "cell_type": "code",
      "source": [
        "#datatype in array\n",
        "arr.dtype"
      ],
      "execution_count": 0,
      "outputs": [
        {
          "output_type": "execute_result",
          "data": {
            "text/plain": [
              "dtype('int32')"
            ]
          },
          "metadata": {
            "tags": []
          },
          "execution_count": 38
        }
      ]
    },
    {
      "metadata": {
        "id": "gIWh6naHyFZO",
        "colab_type": "text"
      },
      "cell_type": "markdown",
      "source": [
        "# Slicing\n"
      ]
    },
    {
      "metadata": {
        "id": "qI98PVQ-yFZQ",
        "colab_type": "code",
        "colab": {
          "autoexec": {
            "startup": false,
            "wait_interval": 0
          }
        }
      },
      "cell_type": "code",
      "source": [
        "arr = np.arange(0,10)"
      ],
      "execution_count": 0,
      "outputs": []
    },
    {
      "metadata": {
        "id": "4KXBkFkEyFZU",
        "colab_type": "code",
        "colab": {
          "autoexec": {
            "startup": false,
            "wait_interval": 0
          }
        },
        "outputId": "b4fbea31-9fef-4373-861f-22532ebbb436"
      },
      "cell_type": "code",
      "source": [
        "arr\n"
      ],
      "execution_count": 0,
      "outputs": [
        {
          "output_type": "execute_result",
          "data": {
            "text/plain": [
              "array([0, 1, 2, 3, 4, 5, 6, 7, 8, 9])"
            ]
          },
          "metadata": {
            "tags": []
          },
          "execution_count": 41
        }
      ]
    },
    {
      "metadata": {
        "id": "5ngRQQhsyFZa",
        "colab_type": "code",
        "colab": {
          "autoexec": {
            "startup": false,
            "wait_interval": 0
          }
        },
        "outputId": "e9cf0dfb-6bbc-4171-cf09-33aa881c04bf"
      },
      "cell_type": "code",
      "source": [
        "#INDEXING\n",
        "arr[1]"
      ],
      "execution_count": 0,
      "outputs": [
        {
          "output_type": "execute_result",
          "data": {
            "text/plain": [
              "1"
            ]
          },
          "metadata": {
            "tags": []
          },
          "execution_count": 42
        }
      ]
    },
    {
      "metadata": {
        "id": "lTmEPXg2yFZg",
        "colab_type": "code",
        "colab": {
          "autoexec": {
            "startup": false,
            "wait_interval": 0
          }
        },
        "outputId": "62764da8-73ea-459f-ec25-6b77b44012bc"
      },
      "cell_type": "code",
      "source": [
        "arr[1:5] #slice notation"
      ],
      "execution_count": 0,
      "outputs": [
        {
          "output_type": "execute_result",
          "data": {
            "text/plain": [
              "array([1, 2, 3, 4])"
            ]
          },
          "metadata": {
            "tags": []
          },
          "execution_count": 43
        }
      ]
    },
    {
      "metadata": {
        "id": "xCyoGTA-yFZm",
        "colab_type": "code",
        "colab": {
          "autoexec": {
            "startup": false,
            "wait_interval": 0
          }
        },
        "outputId": "e9eeb717-56c6-420b-9c6c-9d71971071d4"
      },
      "cell_type": "code",
      "source": [
        "arr[:5]"
      ],
      "execution_count": 0,
      "outputs": [
        {
          "output_type": "execute_result",
          "data": {
            "text/plain": [
              "array([0, 1, 2, 3, 4])"
            ]
          },
          "metadata": {
            "tags": []
          },
          "execution_count": 44
        }
      ]
    },
    {
      "metadata": {
        "id": "GQC_eEpTyFZq",
        "colab_type": "code",
        "colab": {
          "autoexec": {
            "startup": false,
            "wait_interval": 0
          }
        },
        "outputId": "af07b0c2-b91e-4ef9-ec93-50f87eb34659"
      },
      "cell_type": "code",
      "source": [
        "arr[0:]"
      ],
      "execution_count": 0,
      "outputs": [
        {
          "output_type": "execute_result",
          "data": {
            "text/plain": [
              "array([0, 1, 2, 3, 4, 5, 6, 7, 8, 9])"
            ]
          },
          "metadata": {
            "tags": []
          },
          "execution_count": 45
        }
      ]
    },
    {
      "metadata": {
        "id": "ARFdlcT9yFZu",
        "colab_type": "code",
        "colab": {
          "autoexec": {
            "startup": false,
            "wait_interval": 0
          }
        },
        "outputId": "57b2d6d9-fc44-4804-ac16-8775abd4a140"
      },
      "cell_type": "code",
      "source": [
        "arr\n"
      ],
      "execution_count": 0,
      "outputs": [
        {
          "output_type": "execute_result",
          "data": {
            "text/plain": [
              "array([0, 1, 2, 3, 4, 5, 6, 7, 8, 9])"
            ]
          },
          "metadata": {
            "tags": []
          },
          "execution_count": 46
        }
      ]
    },
    {
      "metadata": {
        "id": "NuXipq7MyFZ2",
        "colab_type": "code",
        "colab": {
          "autoexec": {
            "startup": false,
            "wait_interval": 0
          }
        },
        "outputId": "c3fabf85-1250-4a3b-e77a-a15c2516af64"
      },
      "cell_type": "code",
      "source": [
        "arr[:10]"
      ],
      "execution_count": 0,
      "outputs": [
        {
          "output_type": "execute_result",
          "data": {
            "text/plain": [
              "array([0, 1, 2, 3, 4, 5, 6, 7, 8, 9])"
            ]
          },
          "metadata": {
            "tags": []
          },
          "execution_count": 47
        }
      ]
    },
    {
      "metadata": {
        "id": "JFtMHklgyFaC",
        "colab_type": "code",
        "colab": {
          "autoexec": {
            "startup": false,
            "wait_interval": 0
          }
        },
        "outputId": "d5996c96-65ea-4e29-891f-b67fd4227d90"
      },
      "cell_type": "code",
      "source": [
        "arr[5:]"
      ],
      "execution_count": 0,
      "outputs": [
        {
          "output_type": "execute_result",
          "data": {
            "text/plain": [
              "array([5, 6, 7, 8, 9])"
            ]
          },
          "metadata": {
            "tags": []
          },
          "execution_count": 48
        }
      ]
    },
    {
      "metadata": {
        "id": "Pi4YHg71yFaG",
        "colab_type": "code",
        "colab": {
          "autoexec": {
            "startup": false,
            "wait_interval": 0
          }
        }
      },
      "cell_type": "code",
      "source": [
        "arr[0:5] =100"
      ],
      "execution_count": 0,
      "outputs": []
    },
    {
      "metadata": {
        "id": "49TjqPyIyFaK",
        "colab_type": "code",
        "colab": {
          "autoexec": {
            "startup": false,
            "wait_interval": 0
          }
        },
        "outputId": "a1025539-856e-4e96-ec05-2a575ca6f996"
      },
      "cell_type": "code",
      "source": [
        "arr\n"
      ],
      "execution_count": 0,
      "outputs": [
        {
          "output_type": "execute_result",
          "data": {
            "text/plain": [
              "array([100, 100, 100, 100, 100,   5,   6,   7,   8,   9])"
            ]
          },
          "metadata": {
            "tags": []
          },
          "execution_count": 50
        }
      ]
    },
    {
      "metadata": {
        "id": "aNi13VTeyFaM",
        "colab_type": "code",
        "colab": {
          "autoexec": {
            "startup": false,
            "wait_interval": 0
          }
        },
        "outputId": "b9afd8eb-a46e-4c47-c1ee-bcc7f03bb5fb"
      },
      "cell_type": "code",
      "source": [
        " arr\n",
        "    "
      ],
      "execution_count": 0,
      "outputs": [
        {
          "output_type": "execute_result",
          "data": {
            "text/plain": [
              "array([100, 100, 100, 100, 100,   5,   6,   7,   8,   9])"
            ]
          },
          "metadata": {
            "tags": []
          },
          "execution_count": 51
        }
      ]
    },
    {
      "metadata": {
        "id": "YNYNYp4UyFaS",
        "colab_type": "code",
        "colab": {
          "autoexec": {
            "startup": false,
            "wait_interval": 0
          }
        },
        "outputId": "cf68566c-4456-43f1-a918-b75b35b840e6"
      },
      "cell_type": "code",
      "source": [
        "arr = np.arange(0,11)\n",
        "arr\n"
      ],
      "execution_count": 0,
      "outputs": [
        {
          "output_type": "execute_result",
          "data": {
            "text/plain": [
              "array([ 0,  1,  2,  3,  4,  5,  6,  7,  8,  9, 10])"
            ]
          },
          "metadata": {
            "tags": []
          },
          "execution_count": 52
        }
      ]
    },
    {
      "metadata": {
        "id": "3xLc7420yFaW",
        "colab_type": "code",
        "colab": {
          "autoexec": {
            "startup": false,
            "wait_interval": 0
          }
        },
        "outputId": "c00bbf98-9cf1-4bd2-e3de-789c90e06ca6"
      },
      "cell_type": "code",
      "source": [
        "arr \n"
      ],
      "execution_count": 0,
      "outputs": [
        {
          "output_type": "execute_result",
          "data": {
            "text/plain": [
              "array([ 0,  1,  2,  3,  4,  5,  6,  7,  8,  9, 10])"
            ]
          },
          "metadata": {
            "tags": []
          },
          "execution_count": 53
        }
      ]
    },
    {
      "metadata": {
        "id": "gzIylc-YyFaa",
        "colab_type": "code",
        "colab": {
          "autoexec": {
            "startup": false,
            "wait_interval": 0
          }
        },
        "outputId": "d1f53032-1563-4e97-a9ac-5b82e5d23f5a"
      },
      "cell_type": "code",
      "source": [
        "slice_arr = arr[0:6]\n",
        "slice_arr"
      ],
      "execution_count": 0,
      "outputs": [
        {
          "output_type": "execute_result",
          "data": {
            "text/plain": [
              "array([0, 1, 2, 3, 4, 5])"
            ]
          },
          "metadata": {
            "tags": []
          },
          "execution_count": 54
        }
      ]
    },
    {
      "metadata": {
        "id": "vD6S3FrUyFae",
        "colab_type": "code",
        "colab": {
          "autoexec": {
            "startup": false,
            "wait_interval": 0
          }
        }
      },
      "cell_type": "code",
      "source": [
        "slice_arr[:] = 99"
      ],
      "execution_count": 0,
      "outputs": []
    },
    {
      "metadata": {
        "id": "U12BfPj_yFag",
        "colab_type": "code",
        "colab": {
          "autoexec": {
            "startup": false,
            "wait_interval": 0
          }
        },
        "outputId": "60364e52-9125-4631-8be5-afd22f4a3e4f"
      },
      "cell_type": "code",
      "source": [
        "slice_arr"
      ],
      "execution_count": 0,
      "outputs": [
        {
          "output_type": "execute_result",
          "data": {
            "text/plain": [
              "array([99, 99, 99, 99, 99, 99])"
            ]
          },
          "metadata": {
            "tags": []
          },
          "execution_count": 56
        }
      ]
    },
    {
      "metadata": {
        "id": "nXOMdg_UyFak",
        "colab_type": "code",
        "colab": {
          "autoexec": {
            "startup": false,
            "wait_interval": 0
          }
        },
        "outputId": "8f3fb54b-c5a0-41d6-d65f-0a729dc9ebfa"
      },
      "cell_type": "code",
      "source": [
        "arr #values are not copied rather the memory address is sent , point to be noted carefully"
      ],
      "execution_count": 0,
      "outputs": [
        {
          "output_type": "execute_result",
          "data": {
            "text/plain": [
              "array([99, 99, 99, 99, 99, 99,  6,  7,  8,  9, 10])"
            ]
          },
          "metadata": {
            "tags": []
          },
          "execution_count": 57
        }
      ]
    },
    {
      "metadata": {
        "id": "Y21RKhqYyFao",
        "colab_type": "code",
        "colab": {
          "autoexec": {
            "startup": false,
            "wait_interval": 0
          }
        },
        "outputId": "a6181738-8e4d-48b2-b97c-a1df4e3054b0"
      },
      "cell_type": "code",
      "source": [
        "#if we want copy of value only we can use copy function\n",
        "arr_copy = arr.copy()\n",
        "arr_copy"
      ],
      "execution_count": 0,
      "outputs": [
        {
          "output_type": "execute_result",
          "data": {
            "text/plain": [
              "array([99, 99, 99, 99, 99, 99,  6,  7,  8,  9, 10])"
            ]
          },
          "metadata": {
            "tags": []
          },
          "execution_count": 58
        }
      ]
    },
    {
      "metadata": {
        "id": "Od5hwfciyFa2",
        "colab_type": "code",
        "colab": {
          "autoexec": {
            "startup": false,
            "wait_interval": 0
          }
        },
        "outputId": "8a95736a-2321-442b-d729-9f3f750c74a6"
      },
      "cell_type": "code",
      "source": [
        "arr_copy[6:] =100\n",
        "arr_copy"
      ],
      "execution_count": 0,
      "outputs": [
        {
          "output_type": "execute_result",
          "data": {
            "text/plain": [
              "array([ 99,  99,  99,  99,  99,  99, 100, 100, 100, 100, 100])"
            ]
          },
          "metadata": {
            "tags": []
          },
          "execution_count": 59
        }
      ]
    },
    {
      "metadata": {
        "id": "C7zoCYu3yFa6",
        "colab_type": "code",
        "colab": {
          "autoexec": {
            "startup": false,
            "wait_interval": 0
          }
        },
        "outputId": "fe8dc802-8776-4140-b71c-a84f5a96dd4e"
      },
      "cell_type": "code",
      "source": [
        "#not changed in the initial arrar i.e arr as values are only copied to the array arr_copy\n",
        "arr"
      ],
      "execution_count": 0,
      "outputs": [
        {
          "output_type": "execute_result",
          "data": {
            "text/plain": [
              "array([99, 99, 99, 99, 99, 99,  6,  7,  8,  9, 10])"
            ]
          },
          "metadata": {
            "tags": []
          },
          "execution_count": 60
        }
      ]
    },
    {
      "metadata": {
        "id": "FvVqhmmlyFa-",
        "colab_type": "code",
        "colab": {
          "autoexec": {
            "startup": false,
            "wait_interval": 0
          }
        },
        "outputId": "43e22c25-358c-423f-90d8-f25aea05908c"
      },
      "cell_type": "code",
      "source": [
        "#2D array , also known as matrix\n",
        "\n",
        "arr_mat = np.array([[5,10,15], [20,25,30], [30,35,40]])\n",
        "arr_mat"
      ],
      "execution_count": 0,
      "outputs": [
        {
          "output_type": "execute_result",
          "data": {
            "text/plain": [
              "array([[ 5, 10, 15],\n",
              "       [20, 25, 30],\n",
              "       [30, 35, 40]])"
            ]
          },
          "metadata": {
            "tags": []
          },
          "execution_count": 61
        }
      ]
    },
    {
      "metadata": {
        "id": "6aSpYepryFbE",
        "colab_type": "text"
      },
      "cell_type": "markdown",
      "source": [
        "# Indexing  in Numpy array"
      ]
    },
    {
      "metadata": {
        "id": "42_3o0OoyFbG",
        "colab_type": "code",
        "colab": {
          "autoexec": {
            "startup": false,
            "wait_interval": 0
          }
        },
        "outputId": "1d4b4b8f-c0a2-4120-a6d7-a3dc8e44273e"
      },
      "cell_type": "code",
      "source": [
        "#indexing\n",
        "arr_mat[0,0]"
      ],
      "execution_count": 0,
      "outputs": [
        {
          "output_type": "execute_result",
          "data": {
            "text/plain": [
              "5"
            ]
          },
          "metadata": {
            "tags": []
          },
          "execution_count": 62
        }
      ]
    },
    {
      "metadata": {
        "id": "_k2mPh64yFbM",
        "colab_type": "code",
        "colab": {
          "autoexec": {
            "startup": false,
            "wait_interval": 0
          }
        },
        "outputId": "06147359-717f-4265-ea3b-eba84dfcb7e1"
      },
      "cell_type": "code",
      "source": [
        "arr_mat[0][0]"
      ],
      "execution_count": 0,
      "outputs": [
        {
          "output_type": "execute_result",
          "data": {
            "text/plain": [
              "5"
            ]
          },
          "metadata": {
            "tags": []
          },
          "execution_count": 63
        }
      ]
    },
    {
      "metadata": {
        "id": "qDy0ut-VyFbQ",
        "colab_type": "code",
        "colab": {
          "autoexec": {
            "startup": false,
            "wait_interval": 0
          }
        },
        "outputId": "097ced90-6762-4673-84ff-c9c3a706ce4c"
      },
      "cell_type": "code",
      "source": [
        "arr_mat[0]"
      ],
      "execution_count": 0,
      "outputs": [
        {
          "output_type": "execute_result",
          "data": {
            "text/plain": [
              "array([ 5, 10, 15])"
            ]
          },
          "metadata": {
            "tags": []
          },
          "execution_count": 64
        }
      ]
    },
    {
      "metadata": {
        "id": "UpgtYMFCyFbW",
        "colab_type": "code",
        "colab": {
          "autoexec": {
            "startup": false,
            "wait_interval": 0
          }
        },
        "outputId": "c9d6f02a-55be-4247-9757-e02ceb5bdb7d"
      },
      "cell_type": "code",
      "source": [
        "arr_mat[2,2]"
      ],
      "execution_count": 0,
      "outputs": [
        {
          "output_type": "execute_result",
          "data": {
            "text/plain": [
              "40"
            ]
          },
          "metadata": {
            "tags": []
          },
          "execution_count": 65
        }
      ]
    },
    {
      "metadata": {
        "id": "9zb6bhnvyFba",
        "colab_type": "code",
        "colab": {
          "autoexec": {
            "startup": false,
            "wait_interval": 0
          }
        },
        "outputId": "369db017-fd7f-424e-f57e-3efa5af474f6"
      },
      "cell_type": "code",
      "source": [
        "arr_mat"
      ],
      "execution_count": 0,
      "outputs": [
        {
          "output_type": "execute_result",
          "data": {
            "text/plain": [
              "array([[ 5, 10, 15],\n",
              "       [20, 25, 30],\n",
              "       [30, 35, 40]])"
            ]
          },
          "metadata": {
            "tags": []
          },
          "execution_count": 66
        }
      ]
    },
    {
      "metadata": {
        "id": "yDEPMUr-yFbg",
        "colab_type": "code",
        "colab": {
          "autoexec": {
            "startup": false,
            "wait_interval": 0
          }
        },
        "outputId": "18971e9b-a899-48ce-a6f6-506035dc0a13"
      },
      "cell_type": "code",
      "source": [
        "arr_mat[:2,1:]"
      ],
      "execution_count": 0,
      "outputs": [
        {
          "output_type": "execute_result",
          "data": {
            "text/plain": [
              "array([[10, 15],\n",
              "       [25, 30]])"
            ]
          },
          "metadata": {
            "tags": []
          },
          "execution_count": 67
        }
      ]
    },
    {
      "metadata": {
        "id": "1NW5NDQWyFbm",
        "colab_type": "code",
        "colab": {
          "autoexec": {
            "startup": false,
            "wait_interval": 0
          }
        },
        "outputId": "fb0cfb64-fd99-4297-bcd6-49c6686fef37"
      },
      "cell_type": "code",
      "source": [
        "arr_mat[2:, 2:]"
      ],
      "execution_count": 0,
      "outputs": [
        {
          "output_type": "execute_result",
          "data": {
            "text/plain": [
              "array([[40]])"
            ]
          },
          "metadata": {
            "tags": []
          },
          "execution_count": 68
        }
      ]
    },
    {
      "metadata": {
        "id": "X12Ap5GQyFbs",
        "colab_type": "code",
        "colab": {
          "autoexec": {
            "startup": false,
            "wait_interval": 0
          }
        },
        "outputId": "659de7fb-344f-43a9-e288-ff3c2fa6a9b4"
      },
      "cell_type": "code",
      "source": [
        "arr_mat[:3, 1:2]"
      ],
      "execution_count": 0,
      "outputs": [
        {
          "output_type": "execute_result",
          "data": {
            "text/plain": [
              "array([[10],\n",
              "       [25],\n",
              "       [35]])"
            ]
          },
          "metadata": {
            "tags": []
          },
          "execution_count": 69
        }
      ]
    },
    {
      "metadata": {
        "id": "AIrnS0KtyFb-",
        "colab_type": "code",
        "colab": {
          "autoexec": {
            "startup": false,
            "wait_interval": 0
          }
        },
        "outputId": "7849b017-286b-413c-8cf9-103cf2dfdb26"
      },
      "cell_type": "code",
      "source": [
        "arr_mat[:, 2:3]"
      ],
      "execution_count": 0,
      "outputs": [
        {
          "output_type": "execute_result",
          "data": {
            "text/plain": [
              "array([[15],\n",
              "       [30],\n",
              "       [40]])"
            ]
          },
          "metadata": {
            "tags": []
          },
          "execution_count": 70
        }
      ]
    },
    {
      "metadata": {
        "id": "0lM7akNNyFcG",
        "colab_type": "code",
        "colab": {
          "autoexec": {
            "startup": false,
            "wait_interval": 0
          }
        },
        "outputId": "efa32eb5-7ede-4d59-f80b-8b036601769a"
      },
      "cell_type": "code",
      "source": [
        "# matrix and Vector Operations\n",
        "\n",
        "#Vector dotproduct and cos angle\n",
        "a = np.array([1,2,3])\n",
        "b = np.array([1,5,7])\n",
        "amag = np.linalg.norm(a)\n",
        "bmag = np.linalg.norm(b)\n",
        "cos_angle = a.dot(b) / ( amag * bmag)\n",
        "cos_angle\n",
        "\n"
      ],
      "execution_count": 0,
      "outputs": [
        {
          "output_type": "execute_result",
          "data": {
            "text/plain": [
              "0.98754143975738806"
            ]
          },
          "metadata": {
            "tags": []
          },
          "execution_count": 53
        }
      ]
    },
    {
      "metadata": {
        "id": "OP-9goUbyFcM",
        "colab_type": "code",
        "colab": {
          "autoexec": {
            "startup": false,
            "wait_interval": 0
          }
        },
        "outputId": "9fe9d89d-34f1-4f83-d552-dc034170600f"
      },
      "cell_type": "code",
      "source": [
        "a.dot(b)"
      ],
      "execution_count": 0,
      "outputs": [
        {
          "output_type": "execute_result",
          "data": {
            "text/plain": [
              "32"
            ]
          },
          "metadata": {
            "tags": []
          },
          "execution_count": 93
        }
      ]
    },
    {
      "metadata": {
        "id": "7vwcWXm3yFcQ",
        "colab_type": "code",
        "colab": {
          "autoexec": {
            "startup": false,
            "wait_interval": 0
          }
        },
        "outputId": "b4a6f67f-76b2-450a-edf1-ef22b6becaad"
      },
      "cell_type": "code",
      "source": [
        "cosangle = np.arccos(cos_angle)\n",
        "cosangle"
      ],
      "execution_count": 0,
      "outputs": [
        {
          "output_type": "execute_result",
          "data": {
            "text/plain": [
              "0.15801592211305823"
            ]
          },
          "metadata": {
            "tags": []
          },
          "execution_count": 94
        }
      ]
    },
    {
      "metadata": {
        "id": "faFk9P84yFcY",
        "colab_type": "code",
        "colab": {
          "autoexec": {
            "startup": false,
            "wait_interval": 0
          }
        }
      },
      "cell_type": "code",
      "source": [
        "#Vector Sine Angle and Cross Product\n"
      ],
      "execution_count": 0,
      "outputs": []
    },
    {
      "metadata": {
        "id": "SZrButO3yFca",
        "colab_type": "code",
        "colab": {
          "autoexec": {
            "startup": false,
            "wait_interval": 0
          }
        },
        "outputId": "efe039cb-60e1-4d2c-b887-3e03f4ee7382"
      },
      "cell_type": "code",
      "source": [
        "c = np.cross(a, b)\n",
        "c"
      ],
      "execution_count": 0,
      "outputs": [
        {
          "output_type": "execute_result",
          "data": {
            "text/plain": [
              "array([-1, -4,  3])"
            ]
          },
          "metadata": {
            "tags": []
          },
          "execution_count": 98
        }
      ]
    },
    {
      "metadata": {
        "id": "ZfbaR1XpyFci",
        "colab_type": "code",
        "colab": {
          "autoexec": {
            "startup": false,
            "wait_interval": 0
          }
        },
        "outputId": "b7f9371d-87f0-4308-872b-ab3d576a18cf"
      },
      "cell_type": "code",
      "source": [
        "c_mag = np.linalg.norm(c)\n",
        "c_mag"
      ],
      "execution_count": 0,
      "outputs": [
        {
          "output_type": "execute_result",
          "data": {
            "text/plain": [
              "5.0990195135927845"
            ]
          },
          "metadata": {
            "tags": []
          },
          "execution_count": 102
        }
      ]
    },
    {
      "metadata": {
        "id": "fiZKUEDwyFcs",
        "colab_type": "code",
        "colab": {
          "autoexec": {
            "startup": false,
            "wait_interval": 0
          }
        }
      },
      "cell_type": "code",
      "source": [
        "amag = np.linalg.norm(a)\n",
        "bmag = np.linalg.norm(b)"
      ],
      "execution_count": 0,
      "outputs": []
    },
    {
      "metadata": {
        "id": "q8LSjnyjyFc0",
        "colab_type": "code",
        "colab": {
          "autoexec": {
            "startup": false,
            "wait_interval": 0
          }
        },
        "outputId": "0797011c-1ced-41c6-c2e2-bcc218068f06"
      },
      "cell_type": "code",
      "source": [
        "sin_angle = c_mag / ( amag * bmag)\n",
        "sin_angle"
      ],
      "execution_count": 0,
      "outputs": [
        {
          "output_type": "execute_result",
          "data": {
            "text/plain": [
              "0.1573591584938886"
            ]
          },
          "metadata": {
            "tags": []
          },
          "execution_count": 103
        }
      ]
    },
    {
      "metadata": {
        "id": "XMgifkazyFc8",
        "colab_type": "code",
        "colab": {
          "autoexec": {
            "startup": false,
            "wait_interval": 0
          }
        },
        "outputId": "bf510ad4-60c3-41a1-a6d3-19ccaf2a9494"
      },
      "cell_type": "code",
      "source": [
        "sinangle = np.arcsin(sin_angle)\n",
        "sinangle"
      ],
      "execution_count": 0,
      "outputs": [
        {
          "output_type": "execute_result",
          "data": {
            "text/plain": [
              "0.15801592211305715"
            ]
          },
          "metadata": {
            "tags": []
          },
          "execution_count": 104
        }
      ]
    },
    {
      "metadata": {
        "id": "ODyjlYQQyFdA",
        "colab_type": "code",
        "colab": {
          "autoexec": {
            "startup": false,
            "wait_interval": 0
          }
        },
        "outputId": "a93a72a0-1ba5-4c84-c3eb-f5050031b09c"
      },
      "cell_type": "code",
      "source": [
        "#matrix \n",
        "#matrix Inverse\n",
        "A = np.array([[1,2], [3,4]])\n",
        "A\n"
      ],
      "execution_count": 0,
      "outputs": [
        {
          "output_type": "execute_result",
          "data": {
            "text/plain": [
              "array([[1, 2],\n",
              "       [3, 4]])"
            ]
          },
          "metadata": {
            "tags": []
          },
          "execution_count": 107
        }
      ]
    },
    {
      "metadata": {
        "id": "fBvrcGNvyFdC",
        "colab_type": "code",
        "colab": {
          "autoexec": {
            "startup": false,
            "wait_interval": 0
          }
        },
        "outputId": "c83c426d-6283-4a38-c905-447bd1d3e519"
      },
      "cell_type": "code",
      "source": [
        "A_inv = np.linalg.inv(A)\n",
        "A_inv"
      ],
      "execution_count": 0,
      "outputs": [
        {
          "output_type": "execute_result",
          "data": {
            "text/plain": [
              "array([[-2. ,  1. ],\n",
              "       [ 1.5, -0.5]])"
            ]
          },
          "metadata": {
            "tags": []
          },
          "execution_count": 108
        }
      ]
    },
    {
      "metadata": {
        "id": "Y_vN5QWlyFdG",
        "colab_type": "code",
        "colab": {
          "autoexec": {
            "startup": false,
            "wait_interval": 0
          }
        },
        "outputId": "cddea66e-52f5-4b6f-e9b6-f21eb3373683"
      },
      "cell_type": "code",
      "source": [
        "#matrix determinant\n",
        "A_det = np.linalg.det(A)\n",
        "A_det\n"
      ],
      "execution_count": 0,
      "outputs": [
        {
          "output_type": "execute_result",
          "data": {
            "text/plain": [
              "-2.0000000000000004"
            ]
          },
          "metadata": {
            "tags": []
          },
          "execution_count": 109
        }
      ]
    },
    {
      "metadata": {
        "id": "V3_MJbP8yFdM",
        "colab_type": "code",
        "colab": {
          "autoexec": {
            "startup": false,
            "wait_interval": 0
          }
        },
        "outputId": "0e58adff-fe6c-437d-e2d5-be3d36c6b42c"
      },
      "cell_type": "code",
      "source": [
        "np.diag(A) #printing diagonal elements]"
      ],
      "execution_count": 0,
      "outputs": [
        {
          "output_type": "execute_result",
          "data": {
            "text/plain": [
              "array([1, 4])"
            ]
          },
          "metadata": {
            "tags": []
          },
          "execution_count": 111
        }
      ]
    },
    {
      "metadata": {
        "id": "QBzZefzIyFdQ",
        "colab_type": "code",
        "colab": {
          "autoexec": {
            "startup": false,
            "wait_interval": 0
          }
        },
        "outputId": "51d710b9-1ada-4979-8b74-c54007cc0326"
      },
      "cell_type": "code",
      "source": [
        "np.diag([1,2])"
      ],
      "execution_count": 0,
      "outputs": [
        {
          "output_type": "execute_result",
          "data": {
            "text/plain": [
              "array([[1, 0],\n",
              "       [0, 2]])"
            ]
          },
          "metadata": {
            "tags": []
          },
          "execution_count": 112
        }
      ]
    },
    {
      "metadata": {
        "id": "C4Z3TzlZyFdS",
        "colab_type": "code",
        "colab": {
          "autoexec": {
            "startup": false,
            "wait_interval": 0
          }
        },
        "outputId": "00fb40c4-6421-44d6-de86-149658b32f88"
      },
      "cell_type": "code",
      "source": [
        "# We need install numpy in order to import it\n",
        "import numpy as np\n",
        " \n",
        "# input two matrices\n",
        "mat1 = ([1,2,4],[3,4,5])\n",
        "mat2 = ([3, 4, 6],[5, 6, 7],[6,56, 7])\n",
        " \n",
        "# This will return dot product\n",
        "res = np.dot(mat1,mat2)\n",
        " \n",
        "# print resulted matrix\n",
        "print(res)"
      ],
      "execution_count": 0,
      "outputs": [
        {
          "output_type": "stream",
          "text": [
            "[[ 37 240  48]\n",
            " [ 59 316  81]]\n"
          ],
          "name": "stdout"
        }
      ]
    },
    {
      "metadata": {
        "id": "3TXmltDEyFdY",
        "colab_type": "code",
        "colab": {
          "autoexec": {
            "startup": false,
            "wait_interval": 0
          }
        }
      },
      "cell_type": "code",
      "source": [
        "mat3 =([1,2,3],[4,5,6])\n",
        "mat4 =([4,5,6],[1,2,3])\n",
        "res1 = np.cross(mat3,mat4)"
      ],
      "execution_count": 0,
      "outputs": []
    },
    {
      "metadata": {
        "id": "D4tGK4mdyFda",
        "colab_type": "code",
        "colab": {
          "autoexec": {
            "startup": false,
            "wait_interval": 0
          }
        },
        "outputId": "adb1220d-f9a5-4e22-eb7e-c16db63396d9"
      },
      "cell_type": "code",
      "source": [
        "res1"
      ],
      "execution_count": 0,
      "outputs": [
        {
          "output_type": "execute_result",
          "data": {
            "text/plain": [
              "array([[-3,  6, -3],\n",
              "       [ 3, -6,  3]])"
            ]
          },
          "metadata": {
            "tags": []
          },
          "execution_count": 147
        }
      ]
    },
    {
      "metadata": {
        "id": "ewtOHUlMyFde",
        "colab_type": "code",
        "colab": {
          "autoexec": {
            "startup": false,
            "wait_interval": 0
          }
        }
      },
      "cell_type": "code",
      "source": [
        ""
      ],
      "execution_count": 0,
      "outputs": []
    }
  ]
}